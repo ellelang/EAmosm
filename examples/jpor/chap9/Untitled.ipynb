{
 "cells": [
  {
   "cell_type": "code",
   "execution_count": null,
   "metadata": {},
   "outputs": [
    {
     "name": "stderr",
     "output_type": "stream",
     "text": [
      "┌ Info: Precompiling CSV [336ed68f-0bac-5ca0-87d4-7b16caf5d00b]\n",
      "└ @ Base loading.jl:1192\n"
     ]
    }
   ],
   "source": [
    "using JuMP, Gurobi, PyPlot, DataFrames, CSV\n",
    "\n",
    "# Solving the p-median problem by Lagrangian Relaxation\n",
    "p = 3\n",
    "\n",
    "# Reading demand data\n",
    "d, header = CSV.read(\"demand.csv\",  header=true)\n",
    "\n",
    "# Reading transportation cost data\n",
    "data = CSV.read(\"cost.csv\")\n",
    "c = data[2:end, 2:end]\n",
    "c = convert(Array{Float64,2}, c)"
   ]
  },
  {
   "cell_type": "code",
   "execution_count": 6,
   "metadata": {},
   "outputs": [
    {
     "ename": "UndefVarError",
     "evalue": "UndefVarError: d not defined",
     "output_type": "error",
     "traceback": [
      "UndefVarError: d not defined",
      "",
      "Stacktrace:",
      " [1] top-level scope at In[6]:1"
     ]
    }
   ],
   "source": [
    "# the length of 'd' and the number of columns in 'c' must match\n",
    "@assert length(d) == size(c,2)\n",
    "\n",
    "locations = 1:size(c,1) # the set, I\n",
    "customers = 1:length(d) # the set, J\n",
    "\n"
   ]
  },
  {
   "cell_type": "code",
   "execution_count": null,
   "metadata": {},
   "outputs": [],
   "source": [
    "\n",
    "function optimal(p)\n",
    "  m = Model(solver=GurobiSolver())\n",
    "\n",
    "  @variable(m, x[i in locations, j in customers] >= 0)\n",
    "  @variable(m, y[i in locations], Bin)\n",
    "\n",
    "  @objective(m, Min, sum( d[j]*c[i,j]*x[i,j]\n",
    "                     for i in locations, j in customers) )\n",
    "\n",
    "  for j in customers\n",
    "    @constraint(m, sum( x[i,j] for i in locations) == 1)\n",
    "  end\n",
    "\n",
    "  @constraint(m, sum( y[i] for i in locations) == p)\n",
    "\n",
    "  for i in locations\n",
    "    for j in customers\n",
    "      @constraint(m, x[i,j] <= y[i] )\n",
    "    end\n",
    "  end\n",
    "\n",
    "  solve(m)\n",
    "\n",
    "  Z_opt = getobjectivevalue(m)\n",
    "  x_opt = getvalue(x)\n",
    "  y_opt = getvalue(y)\n",
    "\n",
    "  return Z_opt, x_opt, y_opt\n",
    "end"
   ]
  }
 ],
 "metadata": {
  "kernelspec": {
   "display_name": "Julia 1.0.3",
   "language": "julia",
   "name": "julia-1.0"
  },
  "language_info": {
   "file_extension": ".jl",
   "mimetype": "application/julia",
   "name": "julia",
   "version": "1.0.3"
  }
 },
 "nbformat": 4,
 "nbformat_minor": 2
}
